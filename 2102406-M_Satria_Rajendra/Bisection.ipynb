{
 "cells": [
  {
   "cell_type": "code",
   "execution_count": null,
   "metadata": {},
   "outputs": [],
   "source": []
  },
  {
   "cell_type": "code",
   "execution_count": 1,
   "metadata": {},
   "outputs": [
    {
     "ename": "SyntaxError",
     "evalue": "invalid syntax (<string>, line 0)",
     "output_type": "error",
     "traceback": [
      "Traceback \u001b[1;36m(most recent call last)\u001b[0m:\n",
      "\u001b[0m  File \u001b[0;32m~\\AppData\\Roaming\\Python\\Python310\\site-packages\\IPython\\core\\interactiveshell.py:3378\u001b[0m in \u001b[0;35mrun_code\u001b[0m\n    exec(code_obj, self.user_global_ns, self.user_ns)\u001b[0m\n",
      "\u001b[1;36m  Cell \u001b[1;32mIn [1], line 6\u001b[1;36m\n\u001b[1;33m    a = eval(input(\"Masukan nilai a = \"))\u001b[1;36m\n",
      "\u001b[1;36m  File \u001b[1;32m<string>\u001b[1;36m\u001b[0m\n\u001b[1;33m    \u001b[0m\n\u001b[1;37m    ^\u001b[0m\n\u001b[1;31mSyntaxError\u001b[0m\u001b[1;31m:\u001b[0m invalid syntax\n"
     ]
    }
   ],
   "source": [
    "import numpy as np\n",
    "import matplotlib.pyplot as plt\n",
    "def f(xc, x) :\n",
    "    return eval(xc)\n",
    "fx = input(\"Masukan f(x) =\")\n",
    "a = eval(input(\"Masukan nilai a = \"))\n",
    "b = eval(input(\"Masukan nilai b = \"))\n",
    "c = 0\n",
    "epsilon = eval (input(\"Masukan nilai e = \"))\n",
    "j = eval (input(\"Masukan batas iterasi =\"))\n",
    "def biseksi(a, b, epsilon):\n",
    "    if f(fx, a) * f(fx, b) > 0:\n",
    "                print(\"Tidak memiliki akar persamaan\")\n",
    "    else:\n",
    "        print(\"|   n   |   a   |   c   |   b   |  f(a) |  f(c) |  f(b) | (a-b) |\")\n",
    "        i=1\n",
    "        while(abs(a-b) > epsilon and i<=j):\n",
    "            c = (a+b)/2\n",
    "            if(f(fx,a)*f(fx,c) < 0):\n",
    "                print(\"|   %d   |%7.3f|%7.3f|%7.3f|%7.3f|%7.3f|%7.3f|%7.3f| [a,c] |\"%(i,a,c,b, f(fx,a), f(fx,c), f(fx,b), abs(a-b)))\n",
    "                b = c\n",
    "                i+=1\n",
    "            else:\n",
    "                print(\"|   %d   |%7.3f|%7.3f|%7.3f|%7.3f|%7.3f|%7.3f|%7.3f| [c,b] |\"%(i,a,c,b, f(fx,a), f(fx,c), f(fx,b), abs(a-b)))\n",
    "                a = c\n",
    "                i+=1        \n",
    "        print(\"Akar hampiran adalah %7.3f\"%(c))\n",
    "        return(c)\n",
    "biseksi(a, b, epsilon)\n",
    "c = np.linspace(a, b, 100)\n",
    "plt.plot(c, f(fx, c))\n",
    "plt.grid()\n",
    "plt.show()"
   ]
  },
  {
   "cell_type": "code",
   "execution_count": 18,
   "metadata": {},
   "outputs": [
    {
     "name": "stdout",
     "output_type": "stream",
     "text": [
      "25\n"
     ]
    }
   ],
   "source": [
    "a=5\n",
    "print(a*5)\n"
   ]
  }
 ],
 "metadata": {
  "kernelspec": {
   "display_name": "Python 3",
   "language": "python",
   "name": "python3"
  },
  "language_info": {
   "codemirror_mode": {
    "name": "ipython",
    "version": 3
   },
   "file_extension": ".py",
   "mimetype": "text/x-python",
   "name": "python",
   "nbconvert_exporter": "python",
   "pygments_lexer": "ipython3",
   "version": "3.10.6"
  },
  "orig_nbformat": 4,
  "vscode": {
   "interpreter": {
    "hash": "031d389f860b2ef608f65e9761a8efd3dd517e4a4cd46bc3b2ace5990be93647"
   }
  }
 },
 "nbformat": 4,
 "nbformat_minor": 2
}
